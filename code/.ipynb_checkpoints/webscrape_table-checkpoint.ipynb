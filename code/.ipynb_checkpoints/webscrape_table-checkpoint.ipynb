{
 "cells": [
  {
   "cell_type": "code",
   "execution_count": 1,
   "metadata": {
    "collapsed": true
   },
   "outputs": [],
   "source": [
    "from requests import get\n",
    "from requests.exceptions import RequestException\n",
    "from contextlib import closing\n",
    "from bs4 import BeautifulSoup\n",
    "import pandas as pd"
   ]
  },
  {
   "cell_type": "code",
   "execution_count": 3,
   "metadata": {
    "collapsed": false
   },
   "outputs": [
    {
     "data": {
      "text/plain": [
       "{'Cache-Control': 'private', 'Content-Type': 'text/html; charset=utf-8', 'Server': 'Microsoft-IIS/7.0', 'Set-Cookie': 'ASP.NET_SessionId=s3idgm4n2ioie4i4rzzurgje; path=/; HttpOnly', 'X-AspNet-Version': '4.0.30319', 'X-Powered-By': 'ASP.NET', 'Access-Control-Allow-Headers': 'Content-Type', 'Access-Control-Allow-Methods': 'GET,POST,PUT', 'Access-Control-Allow-Origin': 'https://crmportal.lacourt.org', 'Access-Control-Max-Age': '86400', 'Date': 'Tue, 08 Jan 2019 18:01:20 GMT', 'Content-Length': '384688'}"
      ]
     },
     "execution_count": 3,
     "metadata": {},
     "output_type": "execute_result"
    }
   ],
   "source": [
    "# Get HTML from website\n",
    "page = get('https://www.lacourt.org/judicialofficers/ui/SearchResult.aspx')\n",
    "\n",
    "page.status_code # if starts with 2, GET was successful, if 4 or 5, it's an error\n",
    "page.content # provides html content of page\n",
    "page.headers # look at headers"
   ]
  },
  {
   "cell_type": "code",
   "execution_count": 7,
   "metadata": {
    "collapsed": false
   },
   "outputs": [],
   "source": [
    "# Creaate beautifulsoup object from html\n",
    "soup = BeautifulSoup(page.content)"
   ]
  },
  {
   "cell_type": "code",
   "execution_count": 21,
   "metadata": {
    "collapsed": false
   },
   "outputs": [
    {
     "data": {
      "text/plain": [
       "['Name', 'Title', 'Location', 'Dept', 'Phone']"
      ]
     },
     "execution_count": 21,
     "metadata": {},
     "output_type": "execute_result"
    }
   ],
   "source": [
    "# Getting column names from table\n",
    "headrow = table.find_all('thead') # gets first row in body of table\n",
    "header_list = []\n",
    "for item in headtuples:\n",
    "    header_list.append(item.string)\n",
    "\n",
    "header_list"
   ]
  },
  {
   "cell_type": "code",
   "execution_count": 18,
   "metadata": {
    "collapsed": false
   },
   "outputs": [
    {
     "data": {
      "text/html": [
       "<div>\n",
       "<style scoped>\n",
       "    .dataframe tbody tr th:only-of-type {\n",
       "        vertical-align: middle;\n",
       "    }\n",
       "\n",
       "    .dataframe tbody tr th {\n",
       "        vertical-align: top;\n",
       "    }\n",
       "\n",
       "    .dataframe thead th {\n",
       "        text-align: right;\n",
       "    }\n",
       "</style>\n",
       "<table border=\"1\" class=\"dataframe\">\n",
       "  <thead>\n",
       "    <tr style=\"text-align: right;\">\n",
       "      <th></th>\n",
       "      <th>Name</th>\n",
       "      <th>Title</th>\n",
       "      <th>Location</th>\n",
       "      <th>Dept</th>\n",
       "      <th>Phone</th>\n",
       "    </tr>\n",
       "  </thead>\n",
       "  <tbody>\n",
       "    <tr>\n",
       "      <th>0</th>\n",
       "      <td>Abzug, Michael D.</td>\n",
       "      <td>Judge</td>\n",
       "      <td>Clara Shortridge Foltz Criminal Justice Center</td>\n",
       "      <td>112</td>\n",
       "      <td>(213) 628-7412</td>\n",
       "    </tr>\n",
       "    <tr>\n",
       "      <th>1</th>\n",
       "      <td>Acevedo, Victor M.</td>\n",
       "      <td>Commissioner</td>\n",
       "      <td>Compton</td>\n",
       "      <td>007</td>\n",
       "      <td>(310) 761-7987</td>\n",
       "    </tr>\n",
       "    <tr>\n",
       "      <th>2</th>\n",
       "      <td>Aceves, Efrain M.</td>\n",
       "      <td>Judge</td>\n",
       "      <td>Clara Shortridge Foltz Criminal Justice Center</td>\n",
       "      <td>046</td>\n",
       "      <td>(213) 628-7746</td>\n",
       "    </tr>\n",
       "    <tr>\n",
       "      <th>3</th>\n",
       "      <td>Adams, Rashida A.</td>\n",
       "      <td>Judge</td>\n",
       "      <td>Edmund D. Edelman Children's Court</td>\n",
       "      <td>423</td>\n",
       "      <td>(323) 307-8023</td>\n",
       "    </tr>\n",
       "    <tr>\n",
       "      <th>4</th>\n",
       "      <td>Aenlle-Rocha, Fernando L.</td>\n",
       "      <td>Judge</td>\n",
       "      <td>East Los Angeles</td>\n",
       "      <td>006</td>\n",
       "      <td>(323) 780-2011</td>\n",
       "    </tr>\n",
       "  </tbody>\n",
       "</table>\n",
       "</div>"
      ],
      "text/plain": [
       "                        Name         Title  \\\n",
       "0          Abzug, Michael D.         Judge   \n",
       "1         Acevedo, Victor M.  Commissioner   \n",
       "2          Aceves, Efrain M.         Judge   \n",
       "3          Adams, Rashida A.         Judge   \n",
       "4  Aenlle-Rocha, Fernando L.         Judge   \n",
       "\n",
       "                                         Location Dept           Phone  \n",
       "0  Clara Shortridge Foltz Criminal Justice Center  112  (213) 628-7412  \n",
       "1                                         Compton  007  (310) 761-7987  \n",
       "2  Clara Shortridge Foltz Criminal Justice Center  046  (213) 628-7746  \n",
       "3              Edmund D. Edelman Children's Court  423  (323) 307-8023  \n",
       "4                                East Los Angeles  006  (323) 780-2011  "
      ]
     },
     "execution_count": 18,
     "metadata": {},
     "output_type": "execute_result"
    }
   ],
   "source": [
    "# Create pandas dataframe\n",
    "df = pd.DataFrame(columns = header_list)\n",
    "\n",
    "# Add rows to dataframe\n",
    "for row in table:\n",
    "    tuples = row.find_all('td')\n",
    "    tuple_list = []\n",
    "    for item in tuples:\n",
    "        tuple_list.append(item.string)\n",
    "    if len(tuple_list) > 0:\n",
    "        df_row = pd.Series(tuple_list, index = header_list)\n",
    "        df = df.append(df_row, ignore_index = True)\n",
    "\n",
    "df.head()"
   ]
  },
  {
   "cell_type": "markdown",
   "metadata": {},
   "source": [
    "### Get links in table"
   ]
  },
  {
   "cell_type": "code",
   "execution_count": 22,
   "metadata": {
    "collapsed": false
   },
   "outputs": [],
   "source": [
    "# Find links in each row of table\n",
    "court_links = []\n",
    "    \n",
    "for row in table:\n",
    "    links = row.find_all('a') # returns a Resultset list (there should only be one bc only one link in row for courthouse)\n",
    "    if len(links) > 0:\n",
    "        court_links.append(links[0]['href'])"
   ]
  },
  {
   "cell_type": "code",
   "execution_count": 26,
   "metadata": {
    "collapsed": false
   },
   "outputs": [
    {
     "data": {
      "text/html": [
       "<div>\n",
       "<style scoped>\n",
       "    .dataframe tbody tr th:only-of-type {\n",
       "        vertical-align: middle;\n",
       "    }\n",
       "\n",
       "    .dataframe tbody tr th {\n",
       "        vertical-align: top;\n",
       "    }\n",
       "\n",
       "    .dataframe thead th {\n",
       "        text-align: right;\n",
       "    }\n",
       "</style>\n",
       "<table border=\"1\" class=\"dataframe\">\n",
       "  <thead>\n",
       "    <tr style=\"text-align: right;\">\n",
       "      <th></th>\n",
       "      <th>Name</th>\n",
       "      <th>Title</th>\n",
       "      <th>Location</th>\n",
       "      <th>Dept</th>\n",
       "      <th>Phone</th>\n",
       "      <th>Link</th>\n",
       "    </tr>\n",
       "  </thead>\n",
       "  <tbody>\n",
       "    <tr>\n",
       "      <th>0</th>\n",
       "      <td>Abzug, Michael D.</td>\n",
       "      <td>Judge</td>\n",
       "      <td>Clara Shortridge Foltz Criminal Justice Center</td>\n",
       "      <td>112</td>\n",
       "      <td>(213) 628-7412</td>\n",
       "      <td>../../Courthouse/info/CCB</td>\n",
       "    </tr>\n",
       "    <tr>\n",
       "      <th>1</th>\n",
       "      <td>Acevedo, Victor M.</td>\n",
       "      <td>Commissioner</td>\n",
       "      <td>Compton</td>\n",
       "      <td>007</td>\n",
       "      <td>(310) 761-7987</td>\n",
       "      <td>../../Courthouse/info/COM</td>\n",
       "    </tr>\n",
       "    <tr>\n",
       "      <th>2</th>\n",
       "      <td>Aceves, Efrain M.</td>\n",
       "      <td>Judge</td>\n",
       "      <td>Clara Shortridge Foltz Criminal Justice Center</td>\n",
       "      <td>046</td>\n",
       "      <td>(213) 628-7746</td>\n",
       "      <td>../../Courthouse/info/CCB</td>\n",
       "    </tr>\n",
       "    <tr>\n",
       "      <th>3</th>\n",
       "      <td>Adams, Rashida A.</td>\n",
       "      <td>Judge</td>\n",
       "      <td>Edmund D. Edelman Children's Court</td>\n",
       "      <td>423</td>\n",
       "      <td>(323) 307-8023</td>\n",
       "      <td>../../Courthouse/info/CCJ</td>\n",
       "    </tr>\n",
       "    <tr>\n",
       "      <th>4</th>\n",
       "      <td>Aenlle-Rocha, Fernando L.</td>\n",
       "      <td>Judge</td>\n",
       "      <td>East Los Angeles</td>\n",
       "      <td>006</td>\n",
       "      <td>(323) 780-2011</td>\n",
       "      <td>../../Courthouse/info/ELA</td>\n",
       "    </tr>\n",
       "  </tbody>\n",
       "</table>\n",
       "</div>"
      ],
      "text/plain": [
       "                        Name         Title  \\\n",
       "0          Abzug, Michael D.         Judge   \n",
       "1         Acevedo, Victor M.  Commissioner   \n",
       "2          Aceves, Efrain M.         Judge   \n",
       "3          Adams, Rashida A.         Judge   \n",
       "4  Aenlle-Rocha, Fernando L.         Judge   \n",
       "\n",
       "                                         Location Dept           Phone  \\\n",
       "0  Clara Shortridge Foltz Criminal Justice Center  112  (213) 628-7412   \n",
       "1                                         Compton  007  (310) 761-7987   \n",
       "2  Clara Shortridge Foltz Criminal Justice Center  046  (213) 628-7746   \n",
       "3              Edmund D. Edelman Children's Court  423  (323) 307-8023   \n",
       "4                                East Los Angeles  006  (323) 780-2011   \n",
       "\n",
       "                        Link  \n",
       "0  ../../Courthouse/info/CCB  \n",
       "1  ../../Courthouse/info/COM  \n",
       "2  ../../Courthouse/info/CCB  \n",
       "3  ../../Courthouse/info/CCJ  \n",
       "4  ../../Courthouse/info/ELA  "
      ]
     },
     "execution_count": 26,
     "metadata": {},
     "output_type": "execute_result"
    }
   ],
   "source": [
    "# Append links as new column to df\n",
    "df['Link'] = court_links\n",
    "\n",
    "df.head()"
   ]
  },
  {
   "cell_type": "markdown",
   "metadata": {},
   "source": [
    "### Write to CSV"
   ]
  },
  {
   "cell_type": "code",
   "execution_count": 29,
   "metadata": {
    "collapsed": false
   },
   "outputs": [],
   "source": [
    "df.to_csv('../data/judicialofficers.csv', index=False)"
   ]
  }
 ],
 "metadata": {
  "kernelspec": {
   "display_name": "Python 3",
   "language": "python",
   "name": "python3"
  },
  "language_info": {
   "codemirror_mode": {
    "name": "ipython",
    "version": 3
   },
   "file_extension": ".py",
   "mimetype": "text/x-python",
   "name": "python",
   "nbconvert_exporter": "python",
   "pygments_lexer": "ipython3",
   "version": "3.6.6"
  }
 },
 "nbformat": 4,
 "nbformat_minor": 2
}
